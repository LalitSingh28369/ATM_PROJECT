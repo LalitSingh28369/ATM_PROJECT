{
 "cells": [
  {
   "cell_type": "code",
   "execution_count": 1,
   "id": "78813ca7",
   "metadata": {},
   "outputs": [
    {
     "data": {
      "text/plain": [
       "'AUTOMATED TELLER MACHINE\\n--------------------------------------------------------\\nWhen creating this ATM program, the class objects are created under a class and these objects have variables\\nwith an associated behaviour. For instance, when depositing funds into an account, the balance will\\nincrease and with withdraw of funds the balance will decrease but never go below a fund of amount of $0.00.\\n\\uf0b7 Input 4 digit user pin for authentication\\n\\uf0b7 We will input user pin double times and check\\nwhether they are equal\\n1)  If pin is found okay, ask for the input selection of\\nnumbers from 1 to 4\\n2)  If selection is 1, Check saving balance and print the\\nbalance\\n3)  If selection is 2, Deposit funds from the user and\\nprint the saving balance after deposit\\n4)  If selection is 3, Withdraw funds from the savings\\nbalance account and print the balance after\\nwithdrawal\\n5)  If selection is 4, Transfer funds from checking\\nbalance to savings balance. For this, you have to.'"
      ]
     },
     "execution_count": 1,
     "metadata": {},
     "output_type": "execute_result"
    }
   ],
   "source": [
    "'''AUTOMATED TELLER MACHINE\n",
    "--------------------------------------------------------\n",
    "When creating this ATM program, the class objects are created under a class and these objects have variables\n",
    "with an associated behaviour. For instance, when depositing funds into an account, the balance will\n",
    "increase and with withdraw of funds the balance will decrease but never go below a fund of amount of $0.00.\n",
    " Input 4 digit user pin for authentication\n",
    " We will input user pin double times and check\n",
    "whether they are equal\n",
    "1)  If pin is found okay, ask for the input selection of\n",
    "numbers from 1 to 4\n",
    "2)  If selection is 1, Check saving balance and print the\n",
    "balance\n",
    "3)  If selection is 2, Deposit funds from the user and\n",
    "print the saving balance after deposit\n",
    "4)  If selection is 3, Withdraw funds from the savings\n",
    "balance account and print the balance after\n",
    "withdrawal\n",
    "5)  If selection is 4, Transfer funds from checking\n",
    "balance to savings balance. For this, you have to.'''\n"
   ]
  },
  {
   "cell_type": "code",
   "execution_count": null,
   "id": "1934bfd3",
   "metadata": {},
   "outputs": [],
   "source": [
    "import random\n",
    "import math\n",
    "class ATM():   \n",
    "    def __init__(self, pin='1234', balance=0):  #CONSTRUCTOR\n",
    "        print(\"ATM\")\n",
    "        while True:\n",
    "            pin=input(\"ENTER YOUR 4 DIGIT PIN : \")  #PIN IS INPUTTED HERE\n",
    "            print()\n",
    "            if len(pin)!=4:   #VALIDATING SIZE OF PIN\n",
    "                print(\"WRONG PIN , PLEASE ENTER 4 DIFZZZ.\")\n",
    "                print()\n",
    "                continue\n",
    "            else:\n",
    "                break\n",
    "        if self.validate(pin):                \n",
    "            self.__pin = pin                  \n",
    "            self.__balance = balance          \n",
    "            self.__checking_balance = 10000  \n",
    "            self.menu()                       \n",
    "        else:    \n",
    "            print(\"WRONG PIN CODE!!\") #MESSAGE FOE ENTERING WRONG PIN\n",
    "    def validate(self,pin):\n",
    "        pin_copy=input(\"PLEASE ENTER YOUR PIN AGAIN:\") \n",
    "        return True if(pin==pin_copy) else False  \n",
    "    def menu(self): #PRINT THE MENU\n",
    "        print(\"\"\"\n",
    "            1)CHECK-BALANCE  2)DEPOSIT  3)WITHDRAW  4)FUNDS TRANSFER  5)STOP\n",
    "        \"\"\")\n",
    "        while True:\n",
    "            option = input(\"PLEASE ENTER YOUR RESPONSE : \") \n",
    "            print()\n",
    "            if option not in {'1','2','3','4','5'}:    #CHECKING FOR CHOICES\n",
    "                print(\"WRONG CHOICE\\n\")\n",
    "                continue\n",
    "            else:\n",
    "                if option == '1':        # 1 FOR PRINTING CURRENT BALANCE\n",
    "                    self.balance()\n",
    "                elif option == '2':      # 2 FOR DEPOSITING MONEY\n",
    "                    self.deposit()\n",
    "                elif option == '3':      # 3 FOR WITHDRAWING MONEY\n",
    "                    self.withdraw()\n",
    "                elif option == '4':      # 4 FOR TRANSFERING FUNDS\n",
    "                    self.transfer_Funds() \n",
    "                elif option == '5':     #FOR EXITING\n",
    "                    break\n",
    "    def balance(self): #FOR PRITING CURRENT BALANCE\n",
    "        print(\"TOTAL ACCOUNT BALANCE :\",self.__balance)\n",
    "    def deposit(self): #FOR DEPOSITING AMOUNT\n",
    "        deposit_amount=int(input(\"ENTER AMOUNT TO BE DEPOSITED : \")) \n",
    "        self.__balance += deposit_amount \n",
    "        self.balance()                   \n",
    "    def withdraw(self): #FOR WITHDRWAING MONEY\n",
    "        withdraw_amount = int(input(\"ENTER AMOUNT YOU WANT TO WITHDRAW : \")) \n",
    "        if self.__balance >= withdraw_amount: \n",
    "            self.__balance -= withdraw_amount \n",
    "            print(\"WITHDRWAN AMOUNT: \",withdraw_amount)  \n",
    "            self.balance()   \n",
    "        else:\n",
    "            print(\"INSUFFICIENTS FUNDS\")\n",
    "    def transfer_Funds(self): #FOR TRANSFERING AMOUNT\n",
    "        transfer_amount = int(input(\"ENTER TRANFERRING AMOUNT: \"))\n",
    "        if self.__checking_balance >= transfer_amount: \n",
    "            self.__checking_balance -= transfer_amount \n",
    "            self.__balance += transfer_amount          \n",
    "            print(\"REMAINING BALANCE : \",self.__checking_balance)\n",
    "            self.balance() \n",
    "        else:\n",
    "            print(\"NO SUFFICIENT BALANCE TO TRANSFER !!\")\n",
    "PNB=ATM()"
   ]
  },
  {
   "cell_type": "code",
   "execution_count": null,
   "id": "e2881eb8",
   "metadata": {},
   "outputs": [],
   "source": []
  },
  {
   "cell_type": "code",
   "execution_count": null,
   "id": "268e00e6",
   "metadata": {},
   "outputs": [],
   "source": []
  },
  {
   "cell_type": "code",
   "execution_count": null,
   "id": "d15df98c",
   "metadata": {},
   "outputs": [],
   "source": []
  }
 ],
 "metadata": {
  "kernelspec": {
   "display_name": "Python 3 (ipykernel)",
   "language": "python",
   "name": "python3"
  },
  "language_info": {
   "codemirror_mode": {
    "name": "ipython",
    "version": 3
   },
   "file_extension": ".py",
   "mimetype": "text/x-python",
   "name": "python",
   "nbconvert_exporter": "python",
   "pygments_lexer": "ipython3",
   "version": "3.9.12"
  }
 },
 "nbformat": 4,
 "nbformat_minor": 5
}
